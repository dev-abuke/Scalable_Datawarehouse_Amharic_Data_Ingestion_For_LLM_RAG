{
 "cells": [
  {
   "cell_type": "code",
   "execution_count": 1,
   "metadata": {},
   "outputs": [],
   "source": [
    "import os\n",
    "import pandas as pd"
   ]
  },
  {
   "cell_type": "code",
   "execution_count": 2,
   "metadata": {},
   "outputs": [],
   "source": [
    "os.chdir('../')"
   ]
  },
  {
   "cell_type": "code",
   "execution_count": 4,
   "metadata": {},
   "outputs": [],
   "source": [
    "from scrapper.news_sites.alain import AlainNewsScraper\n",
    "from db.connection.db_conn import DatabaseLoader\n",
    "from scripts.clean_data import DataCleaner"
   ]
  },
  {
   "cell_type": "code",
   "execution_count": 5,
   "metadata": {},
   "outputs": [],
   "source": [
    "cleaner = DataCleaner()"
   ]
  },
  {
   "cell_type": "code",
   "execution_count": 6,
   "metadata": {},
   "outputs": [],
   "source": [
    "db = DatabaseLoader()"
   ]
  },
  {
   "cell_type": "code",
   "execution_count": 8,
   "metadata": {},
   "outputs": [
    {
     "name": "stdout",
     "output_type": "stream",
     "text": [
      "Connected to the database.\n"
     ]
    }
   ],
   "source": [
    "db_connection = db.connect()"
   ]
  },
  {
   "cell_type": "code",
   "execution_count": 7,
   "metadata": {},
   "outputs": [],
   "source": [
    "scraper = AlainNewsScraper(number_of_pages_to_scrape=1)"
   ]
  },
  {
   "cell_type": "code",
   "execution_count": null,
   "metadata": {},
   "outputs": [],
   "source": [
    "news_data = scraper.get_full_news()"
   ]
  },
  {
   "cell_type": "code",
   "execution_count": null,
   "metadata": {},
   "outputs": [],
   "source": [
    "len(news_data)"
   ]
  },
  {
   "cell_type": "code",
   "execution_count": null,
   "metadata": {},
   "outputs": [],
   "source": [
    "news_df = pd.DataFrame(news_data)"
   ]
  },
  {
   "cell_type": "code",
   "execution_count": null,
   "metadata": {},
   "outputs": [],
   "source": [
    "news_df.head()"
   ]
  },
  {
   "cell_type": "code",
   "execution_count": null,
   "metadata": {},
   "outputs": [],
   "source": [
    "news_df.isna().sum()"
   ]
  },
  {
   "cell_type": "code",
   "execution_count": null,
   "metadata": {},
   "outputs": [],
   "source": [
    "news_df.shape"
   ]
  },
  {
   "cell_type": "code",
   "execution_count": null,
   "metadata": {},
   "outputs": [],
   "source": [
    "news_df.to_csv(f\"./data/raw/alain_news_1_page.csv\", index=False)"
   ]
  },
  {
   "cell_type": "code",
   "execution_count": null,
   "metadata": {},
   "outputs": [],
   "source": [
    "db.add_data_to_table(news_df, 'news_articles')"
   ]
  },
  {
   "cell_type": "code",
   "execution_count": null,
   "metadata": {},
   "outputs": [],
   "source": [
    "# get all null values\n",
    "print(news_df[news_df.isna().any(axis=1)])"
   ]
  },
  {
   "cell_type": "code",
   "execution_count": 3,
   "metadata": {},
   "outputs": [],
   "source": [
    "news = pd.read_csv('./alain_news_class.csv')"
   ]
  },
  {
   "cell_type": "code",
   "execution_count": 4,
   "metadata": {},
   "outputs": [
    {
     "data": {
      "text/html": [
       "<div>\n",
       "<style scoped>\n",
       "    .dataframe tbody tr th:only-of-type {\n",
       "        vertical-align: middle;\n",
       "    }\n",
       "\n",
       "    .dataframe tbody tr th {\n",
       "        vertical-align: top;\n",
       "    }\n",
       "\n",
       "    .dataframe thead th {\n",
       "        text-align: right;\n",
       "    }\n",
       "</style>\n",
       "<table border=\"1\" class=\"dataframe\">\n",
       "  <thead>\n",
       "    <tr style=\"text-align: right;\">\n",
       "      <th></th>\n",
       "      <th>id</th>\n",
       "      <th>image_url</th>\n",
       "      <th>title</th>\n",
       "      <th>article_url</th>\n",
       "      <th>highlight</th>\n",
       "      <th>time_publish</th>\n",
       "      <th>category</th>\n",
       "      <th>date_published</th>\n",
       "      <th>publisher_name</th>\n",
       "      <th>detail_content</th>\n",
       "    </tr>\n",
       "  </thead>\n",
       "  <tbody>\n",
       "    <tr>\n",
       "      <th>0</th>\n",
       "      <td>0</td>\n",
       "      <td>https://cdn.al-ain.com/sm/images/2024/5/29/273...</td>\n",
       "      <td>እስራኤል በራፋህ ዘመቻ የአሜሪካን ቀይ መስመር አላለፈችም - ዋይትሃውስ</td>\n",
       "      <td>https://am.al-ain.com/article/us-says-israel-r...</td>\n",
       "      <td>እስራኤል በምስራቃዊ ራፋህ የጀመረችውን ዘመቻ ወደ ማዕከላዊና ሰሜናዊ የከ...</td>\n",
       "      <td>2 hours ago</td>\n",
       "      <td>politics</td>\n",
       "      <td>2024/5/29 7:10 GMT</td>\n",
       "      <td>አል-ዐይን</td>\n",
       "      <td>እስራኤል በምስራቃዊ ራፋህ የጀመረችውን ዘመቻ ወደ ማዕከላዊና ሰሜናዊ የከ...</td>\n",
       "    </tr>\n",
       "    <tr>\n",
       "      <th>1</th>\n",
       "      <td>1</td>\n",
       "      <td>https://cdn.al-ain.com/sm/images/2024/5/29/243...</td>\n",
       "      <td>ፑቲን ምዕራባውያን ዩክሬን ሩሲያን በሚሳይል እንድትመታ በመፍቀድ \"በእሳት...</td>\n",
       "      <td>https://am.al-ain.com/article/putun-warns-west...</td>\n",
       "      <td>የሩሲያ ባለስጣናት ዩክሬን በሩሲያ ከተሞች እና የነዳጅ መሰረተልማቶች ላይ...</td>\n",
       "      <td>3 hours ago</td>\n",
       "      <td>politics</td>\n",
       "      <td>2024/5/29 6:15 GMT</td>\n",
       "      <td>አል-ዐይን</td>\n",
       "      <td>የሩሲያ ባለስጣናት ዩክሬን በሩሲያ ከተሞች እና የነዳጅ መሰረተልማቶች ላይ...</td>\n",
       "    </tr>\n",
       "    <tr>\n",
       "      <th>2</th>\n",
       "      <td>2</td>\n",
       "      <td>https://cdn.al-ain.com/sm/images/2024/5/28/243...</td>\n",
       "      <td>በአማራ እና ኦሮሚያ ክልሎች ከ130 በላይ ንጹሃን ሰዎች መገደላቸውን ኢሰ...</td>\n",
       "      <td>https://am.al-ain.com/article/nearly-100-kille...</td>\n",
       "      <td>ኢሰመኮ \"ከህግ ውጭ ግድያ፣ የሲቪል ሰዎች ሞት፣ዘረፋ፣ የጅምላ እና የታረ...</td>\n",
       "      <td>17 hours ago</td>\n",
       "      <td>politics</td>\n",
       "      <td>2024/5/28 15:24 GMT</td>\n",
       "      <td>አል-ዐይን</td>\n",
       "      <td>ኢሰመኮ \"ከህግ ውጭ ግድያ፣ የሲቪል ሰዎች ሞት፣ዘረፋ፣ የጅምላ እና የታረ...</td>\n",
       "    </tr>\n",
       "  </tbody>\n",
       "</table>\n",
       "</div>"
      ],
      "text/plain": [
       "   id                                          image_url  \\\n",
       "0   0  https://cdn.al-ain.com/sm/images/2024/5/29/273...   \n",
       "1   1  https://cdn.al-ain.com/sm/images/2024/5/29/243...   \n",
       "2   2  https://cdn.al-ain.com/sm/images/2024/5/28/243...   \n",
       "\n",
       "                                               title  \\\n",
       "0      እስራኤል በራፋህ ዘመቻ የአሜሪካን ቀይ መስመር አላለፈችም - ዋይትሃውስ   \n",
       "1  ፑቲን ምዕራባውያን ዩክሬን ሩሲያን በሚሳይል እንድትመታ በመፍቀድ \"በእሳት...   \n",
       "2  በአማራ እና ኦሮሚያ ክልሎች ከ130 በላይ ንጹሃን ሰዎች መገደላቸውን ኢሰ...   \n",
       "\n",
       "                                         article_url  \\\n",
       "0  https://am.al-ain.com/article/us-says-israel-r...   \n",
       "1  https://am.al-ain.com/article/putun-warns-west...   \n",
       "2  https://am.al-ain.com/article/nearly-100-kille...   \n",
       "\n",
       "                                           highlight  time_publish  category  \\\n",
       "0  እስራኤል በምስራቃዊ ራፋህ የጀመረችውን ዘመቻ ወደ ማዕከላዊና ሰሜናዊ የከ...   2 hours ago  politics   \n",
       "1  የሩሲያ ባለስጣናት ዩክሬን በሩሲያ ከተሞች እና የነዳጅ መሰረተልማቶች ላይ...   3 hours ago  politics   \n",
       "2  ኢሰመኮ \"ከህግ ውጭ ግድያ፣ የሲቪል ሰዎች ሞት፣ዘረፋ፣ የጅምላ እና የታረ...  17 hours ago  politics   \n",
       "\n",
       "        date_published publisher_name  \\\n",
       "0   2024/5/29 7:10 GMT         አል-ዐይን   \n",
       "1   2024/5/29 6:15 GMT         አል-ዐይን   \n",
       "2  2024/5/28 15:24 GMT         አል-ዐይን   \n",
       "\n",
       "                                      detail_content  \n",
       "0  እስራኤል በምስራቃዊ ራፋህ የጀመረችውን ዘመቻ ወደ ማዕከላዊና ሰሜናዊ የከ...  \n",
       "1  የሩሲያ ባለስጣናት ዩክሬን በሩሲያ ከተሞች እና የነዳጅ መሰረተልማቶች ላይ...  \n",
       "2  ኢሰመኮ \"ከህግ ውጭ ግድያ፣ የሲቪል ሰዎች ሞት፣ዘረፋ፣ የጅምላ እና የታረ...  "
      ]
     },
     "execution_count": 4,
     "metadata": {},
     "output_type": "execute_result"
    }
   ],
   "source": [
    "news.head(3)"
   ]
  },
  {
   "cell_type": "code",
   "execution_count": 7,
   "metadata": {},
   "outputs": [],
   "source": [
    "sample_content = news['detail_content'][0]"
   ]
  },
  {
   "cell_type": "code",
   "execution_count": 8,
   "metadata": {},
   "outputs": [
    {
     "name": "stdout",
     "output_type": "stream",
     "text": [
      "የህክምና ቁሳቁሶች ከደረሱም 10 ቀናት አልፈዋል\n",
      "የተባበት መንግስታት ድርጅት(ተመድ) ቃል አቀባይ ስቴፈን ዱጃሪክ በአካባቢው ያሉትን የአለም የምግብ ፕሮግራም የእርዳታ ስርጭት ስፍራዎች የስጋት ቀጠና ሆነዋል ብለዋል።\n",
      "በአካባቢው የእስራኤል ጦር መጠኑ ከፍ ያለ ወታደራዊ ዘመቻ በማከነዋን ላይ ሲሆን በዚህ የተነሳም 1ሚልዮን የሚጠጉ ሰዎች ለምግብ እጥረት ተጋላጭ መሆናቸው ነው የተሰማው፡፡\n",
      "የእስራኤል ጦር ጋዛን ከግብጽ ጋር የሚያገናኘውን ወሳኝ ማቋረጫ ተቆጣጠረ\n",
      "በራፋ በኩል ዋነኛ የሰብአዊ እርዳታ ማጓጓዣ የነበረው መተላለፍያ ከተዘጋ ሁለት ሳምንታት ያስቆጠረ ሲሆን በዚህ ከቀጠለም ከፍተኛ ተፈናቆዮች በሚገኙበት በዚህ ስፍራ ሰብአዊ ሁኔታዎች ሊከፉ እንደሚችሉ ሲጂኤን ዘግቧል።\n",
      "የአለም ጤና ድርጅት ሀላፊ ዶክተር ቴዎድሮስ በአካባቢው በሚካሄደው ከፍተኛ ውግያ ምክንያት በአስከፊ ሁኔታ ላይ የሚገኙ 700 ታማሚዎች እና 148 የጤና ባለሙያዎችን ማስወጣት አልተቻለም ብለዋል፡፡\n",
      "የራፋ ድንበር መዘጋትን ተከትሎ አሜሪካ ተመድ እና ሌሎች የሰበአዊ ድጋፍ የሚያደርጉ አካላት አማራጭ የእርዳታ ማስተላለፍያ መንገዶችን በማፈላለግ ላይ ናቸው።  \n",
      "8ተኛ ወሩን ባስቆጠረው የጋዛ ጦርነት ከ35 ሺ የሚሻገሩ ንጹሀን ህይወታቸው አልፏል፡፡\n"
     ]
    }
   ],
   "source": [
    "print(sample_content)"
   ]
  },
  {
   "cell_type": "code",
   "execution_count": 9,
   "metadata": {},
   "outputs": [
    {
     "name": "stdout",
     "output_type": "stream",
     "text": [
      "የህክምና ቁሳቁሶች ከደረሱም 10 ቀናት አልፈዋል\n",
      "የተባበት መንግስታት ድርጅትተመድ ቃል አቀባይ ስቴፈን ዱጃሪክ በአካባቢው ያሉትን የአለም የምግብ ፕሮግራም የእርዳታ ስርጭት ስፍራዎች የስጋት ቀጠና ሆነዋል ብለዋል\n",
      "በአካባቢው የእስራኤል ጦር መጠኑ ከፍ ያለ ወታደራዊ ዘመቻ በማከነዋን ላይ ሲሆን በዚህ የተነሳም 1ሚልዮን የሚጠጉ ሰዎች ለምግብ እጥረት ተጋላጭ መሆናቸው ነው የተሰማው\n",
      "የእስራኤል ጦር ጋዛን ከግብጽ ጋር የሚያገናኘውን ወሳኝ ማቋረጫ ተቆጣጠረ\n",
      "በራፋ በኩል ዋነኛ የሰብአዊ እርዳታ ማጓጓዣ የነበረው መተላለፍያ ከተዘጋ ሁለት ሳምንታት ያስቆጠረ ሲሆን በዚህ ከቀጠለም ከፍተኛ ተፈናቆዮች በሚገኙበት በዚህ ስፍራ ሰብአዊ ሁኔታዎች ሊከፉ እንደሚችሉ ሲጂኤን ዘግቧል\n",
      "የአለም ጤና ድርጅት ሀላፊ ዶክተር ቴዎድሮስ በአካባቢው በሚካሄደው ከፍተኛ ውግያ ምክንያት በአስከፊ ሁኔታ ላይ የሚገኙ 700 ታማሚዎች እና 148 የጤና ባለሙያዎችን ማስወጣት አልተቻለም ብለዋል\n",
      "የራፋ ድንበር መዘጋትን ተከትሎ አሜሪካ ተመድ እና ሌሎች የሰበአዊ ድጋፍ የሚያደርጉ አካላት አማራጭ የእርዳታ ማስተላለፍያ መንገዶችን በማፈላለግ ላይ ናቸው  \n",
      "8ተኛ ወሩን ባስቆጠረው የጋዛ ጦርነት ከ35 ሺ የሚሻገሩ ንጹሀን ህይወታቸው አልፏል\n"
     ]
    }
   ],
   "source": [
    "punctuation_removed = cleaner.remove_punc_and_special_chars(sample_content)\n",
    "print(punctuation_removed)"
   ]
  },
  {
   "cell_type": "code",
   "execution_count": 10,
   "metadata": {},
   "outputs": [
    {
     "name": "stdout",
     "output_type": "stream",
     "text": [
      "የህክምና ቁሳቁሶች ከደረሱም  ቀናት አልፈዋል\n",
      "የተባበት መንግስታት ድርጅትተመድ ቃል አቀባይ ስቴፈን ዱጃሪክ በአካባቢው ያሉትን የአለም የምግብ ፕሮግራም የእርዳታ ስርጭት ስፍራዎች የስጋት ቀጠና ሆነዋል ብለዋል\n",
      "በአካባቢው የእስራኤል ጦር መጠኑ ከፍ ያለ ወታደራዊ ዘመቻ በማከነዋን ላይ ሲሆን በዚህ የተነሳም ሚልዮን የሚጠጉ ሰዎች ለምግብ እጥረት ተጋላጭ መሆናቸው ነው የተሰማው\n",
      "የእስራኤል ጦር ጋዛን ከግብጽ ጋር የሚያገናኘውን ወሳኝ ማቋረጫ ተቆጣጠረ\n",
      "በራፋ በኩል ዋነኛ የሰብአዊ እርዳታ ማጓጓዣ የነበረው መተላለፍያ ከተዘጋ ሁለት ሳምንታት ያስቆጠረ ሲሆን በዚህ ከቀጠለም ከፍተኛ ተፈናቆዮች በሚገኙበት በዚህ ስፍራ ሰብአዊ ሁኔታዎች ሊከፉ እንደሚችሉ ሲጂኤን ዘግቧል\n",
      "የአለም ጤና ድርጅት ሀላፊ ዶክተር ቴዎድሮስ በአካባቢው በሚካሄደው ከፍተኛ ውግያ ምክንያት በአስከፊ ሁኔታ ላይ የሚገኙ  ታማሚዎች እና  የጤና ባለሙያዎችን ማስወጣት አልተቻለም ብለዋል\n",
      "የራፋ ድንበር መዘጋትን ተከትሎ አሜሪካ ተመድ እና ሌሎች የሰበአዊ ድጋፍ የሚያደርጉ አካላት አማራጭ የእርዳታ ማስተላለፍያ መንገዶችን በማፈላለግ ላይ ናቸው  \n",
      "ተኛ ወሩን ባስቆጠረው የጋዛ ጦርነት ከ ሺ የሚሻገሩ ንጹሀን ህይወታቸው አልፏል\n"
     ]
    }
   ],
   "source": [
    "ascii_removed = cleaner.remove_ascii_and_numbers(punctuation_removed)\n",
    "print(ascii_removed)"
   ]
  },
  {
   "cell_type": "code",
   "execution_count": 11,
   "metadata": {},
   "outputs": [
    {
     "name": "stdout",
     "output_type": "stream",
     "text": [
      "የህክምና\n",
      "ቁሳቁሶች\n",
      "ከደረሱም\n",
      "ቀናት\n",
      "አልፈዋል\n",
      "የተባበት\n",
      "መንግስታት\n",
      "ድርጅትተመድ\n",
      "ቃል\n",
      "አቀባይ\n",
      "ስቴፈን\n",
      "ዱጃሪክ\n",
      "በአካባቢው\n",
      "ያሉትን\n",
      "የአለም\n",
      "የምግብ\n",
      "ፕሮግራም\n",
      "የእርዳታ\n",
      "ስርጭት\n",
      "ስፍራዎች\n",
      "የስጋት\n",
      "ቀጠና\n",
      "ሆነዋል\n",
      "ብለዋል\n",
      "በአካባቢው\n",
      "የእስራኤል\n",
      "ጦር\n",
      "መጠኑ\n",
      "ከፍ\n",
      "ያለ\n",
      "ወታደራዊ\n",
      "ዘመቻ\n",
      "በማከነዋን\n",
      "ላይ\n",
      "ሲሆን\n",
      "በዚህ\n",
      "የተነሳም\n",
      "ሚልዮን\n",
      "የሚጠጉ\n",
      "ሰዎች\n",
      "ለምግብ\n",
      "እጥረት\n",
      "ተጋላጭ\n",
      "መሆናቸው\n",
      "ነው\n",
      "የተሰማው\n",
      "የእስራኤል\n",
      "ጦር\n",
      "ጋዛን\n",
      "ከግብጽ\n",
      "ጋር\n",
      "የሚያገናኘውን\n",
      "ወሳኝ\n",
      "ማቋረጫ\n",
      "ተቆጣጠረ\n",
      "በራፋ\n",
      "በኩል\n",
      "ዋነኛ\n",
      "የሰብአዊ\n",
      "እርዳታ\n",
      "ማጓጓዣ\n",
      "የነበረው\n",
      "መተላለፍያ\n",
      "ከተዘጋ\n",
      "ሁለት\n",
      "ሳምንታት\n",
      "ያስቆጠረ\n",
      "ሲሆን\n",
      "በዚህ\n",
      "ከቀጠለም\n",
      "ከፍተኛ\n",
      "ተፈናቆዮች\n",
      "በሚገኙበት\n",
      "በዚህ\n",
      "ስፍራ\n",
      "ሰብአዊ\n",
      "ሁኔታዎች\n",
      "ሊከፉ\n",
      "እንደሚችሉ\n",
      "ሲጂኤን\n",
      "ዘግቧል\n",
      "የአለም\n",
      "ጤና\n",
      "ድርጅት\n",
      "ሀላፊ\n",
      "ዶክተር\n",
      "ቴዎድሮስ\n",
      "በአካባቢው\n",
      "በሚካሄደው\n",
      "ከፍተኛ\n",
      "ውግያ\n",
      "ምክንያት\n",
      "በአስከፊ\n",
      "ሁኔታ\n",
      "ላይ\n",
      "የሚገኙ\n",
      "ታማሚዎች\n",
      "እና\n",
      "የጤና\n",
      "ባለሙያዎችን\n",
      "ማስወጣት\n",
      "አልተቻለም\n",
      "ብለዋል\n",
      "የራፋ\n",
      "ድንበር\n",
      "መዘጋትን\n",
      "ተከትሎ\n",
      "አሜሪካ\n",
      "ተመድ\n",
      "እና\n",
      "ሌሎች\n",
      "የሰበአዊ\n",
      "ድጋፍ\n",
      "የሚያደርጉ\n",
      "አካላት\n",
      "አማራጭ\n",
      "የእርዳታ\n",
      "ማስተላለፍያ\n",
      "መንገዶችን\n",
      "በማፈላለግ\n",
      "ላይ\n",
      "ናቸው\n",
      "ተኛ\n",
      "ወሩን\n",
      "ባስቆጠረው\n",
      "የጋዛ\n",
      "ጦርነት\n",
      "ከ\n",
      "ሺ\n",
      "የሚሻገሩ\n",
      "ንጹሀን\n",
      "ህይወታቸው\n",
      "አልፏል\n"
     ]
    }
   ],
   "source": [
    "for word in ascii_removed.split():\n",
    "    print(word)"
   ]
  },
  {
   "cell_type": "code",
   "execution_count": 19,
   "metadata": {},
   "outputs": [
    {
     "data": {
      "text/plain": [
       "''"
      ]
     },
     "execution_count": 19,
     "metadata": {},
     "output_type": "execute_result"
    }
   ],
   "source": [
    "cleaner.normalize_char_level_missmatch(\"\")\n"
   ]
  }
 ],
 "metadata": {
  "kernelspec": {
   "display_name": "nlp",
   "language": "python",
   "name": "python3"
  },
  "language_info": {
   "codemirror_mode": {
    "name": "ipython",
    "version": 3
   },
   "file_extension": ".py",
   "mimetype": "text/x-python",
   "name": "python",
   "nbconvert_exporter": "python",
   "pygments_lexer": "ipython3",
   "version": "3.12.0"
  }
 },
 "nbformat": 4,
 "nbformat_minor": 2
}
